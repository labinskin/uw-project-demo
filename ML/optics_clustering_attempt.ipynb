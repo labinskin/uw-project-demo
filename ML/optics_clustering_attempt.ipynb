{
 "cells": [
  {
   "cell_type": "markdown",
   "id": "3aebc52b",
   "metadata": {},
   "source": [
    "# Machine Learning Optics Model\n",
    "## NOT CURRENTLY FUNCTIONING\n",
    "This notebook is an unfinished attempt at producing results using SKlearn's Optics clustering algorithm. \n",
    "\n",
    "To see outputs used in the analysis please see Machine_Learning_Final notebook in the ML directory."
   ]
  },
  {
   "cell_type": "code",
   "execution_count": null,
   "id": "006d1637",
   "metadata": {},
   "outputs": [],
   "source": [
    "# Initial imports\n",
    "import pandas as pd\n",
    "import numpy as np\n",
    "import hvplot.pandas\n",
    "import sklearn\n",
    "from sklearn.preprocessing import MinMaxScaler, LabelEncoder, StandardScaler\n",
    "from sklearn.decomposition import PCA\n",
    "from sklearn.cluster import KMeans, DBSCAN, OPTICS, cluster_optics_dbscan\n",
    "import plotly.express as px\n",
    "import matplotlib.pyplot as plt\n",
    "from matplotlib import gridspec"
   ]
  },
  {
   "cell_type": "code",
   "execution_count": null,
   "id": "4e749848",
   "metadata": {},
   "outputs": [],
   "source": [
    "# Make a reference to the ml_data.csv file path\n",
    "csv_path = \"ml_data.csv\"\n",
    "\n",
    "# Import the ml_data.csv file as a DataFrame\n",
    "ml_data_df = pd.read_csv(csv_path)\n",
    "ml_data_df"
   ]
  },
  {
   "cell_type": "markdown",
   "id": "07854592",
   "metadata": {},
   "source": [
    "### Optics"
   ]
  },
  {
   "cell_type": "code",
   "execution_count": null,
   "id": "30251bab",
   "metadata": {},
   "outputs": [],
   "source": [
    "#scaling\n",
    "scaler4 = MinMaxScaler()\n",
    "X_scaled = scaler4.fit_transform(ml_data_df)"
   ]
  },
  {
   "cell_type": "code",
   "execution_count": null,
   "id": "016ef44f",
   "metadata": {},
   "outputs": [],
   "source": [
    "# Build the model\n",
    "optics_model = OPTICS(min_samples = 10, xi = 0.05, min_cluster_size = 0.5)"
   ]
  },
  {
   "cell_type": "code",
   "execution_count": null,
   "id": "85f0e79d",
   "metadata": {},
   "outputs": [],
   "source": [
    "# Train the model\n",
    "optics_model.fit(X_scaled)"
   ]
  },
  {
   "cell_type": "code",
   "execution_count": null,
   "id": "7b020423",
   "metadata": {},
   "outputs": [],
   "source": [
    "# Labels\n",
    "labels = optics_model.labels_\n",
    "labels"
   ]
  },
  {
   "cell_type": "code",
   "execution_count": null,
   "id": "3994916d",
   "metadata": {},
   "outputs": [],
   "source": [
    "# https://www.geeksforgeeks.org/ml-optics-clustering-implementing-using-sklearn/\n",
    "\n",
    "# https://scikit-learn.org/stable/auto_examples/cluster/plot_optics.html\n",
    "\n",
    "# Producing the labels according to the DBSCAN technique with eps = 0.5\n",
    "labels1 = cluster_optics_dbscan(reachability = optics_model.reachability_,\n",
    "                                   core_distances = optics_model.core_distances_,\n",
    "                                   ordering = optics_model.ordering_, eps = 0.5)"
   ]
  },
  {
   "cell_type": "code",
   "execution_count": null,
   "id": "f8b2d686",
   "metadata": {},
   "outputs": [],
   "source": [
    "# Producing the labels according to the DBSCAN technique with eps = 2.0\n",
    "labels2 = cluster_optics_dbscan(reachability = optics_model.reachability_,\n",
    "                                   core_distances = optics_model.core_distances_,\n",
    "                                   ordering = optics_model.ordering_, eps = 2)"
   ]
  },
  {
   "cell_type": "code",
   "execution_count": null,
   "id": "fc08279d",
   "metadata": {},
   "outputs": [],
   "source": [
    "# Creating a numpy array with numbers at equal spaces till\n",
    "# the specified range\n",
    "space = np.arange(len(X_scaled))"
   ]
  },
  {
   "cell_type": "code",
   "execution_count": null,
   "id": "da3f3671",
   "metadata": {},
   "outputs": [],
   "source": [
    "# Storing the reachability distance of each point\n",
    "reachability = optics_model.reachability_[optics_model.ordering_]"
   ]
  },
  {
   "cell_type": "code",
   "execution_count": null,
   "id": "8eb89f3d",
   "metadata": {},
   "outputs": [],
   "source": [
    "# Storing the cluster labels of each point\n",
    "labels = optics_model.labels_[optics_model.ordering_]\n",
    "labels"
   ]
  },
  {
   "cell_type": "code",
   "execution_count": null,
   "id": "4eba22ad",
   "metadata": {},
   "outputs": [],
   "source": [
    "\n",
    "# Defining the framework of the visualization\n",
    "plt.figure(figsize =(10, 7))\n",
    "G = gridspec.GridSpec(2, 3)\n",
    "ax1 = plt.subplot(G[0, :])\n",
    "ax2 = plt.subplot(G[1, 0])\n",
    "ax3 = plt.subplot(G[1, 1])\n",
    "ax4 = plt.subplot(G[1, 2])\n",
    "  \n",
    "# Plotting the Reachability-Distance Plot\n",
    "colors = ['c.', 'b.', 'r.', 'y.', 'g.']\n",
    "for Class, colour in zip(range(0, 5), colors):\n",
    "    Xk = space[labels == Class]\n",
    "    Rk = reachability[labels == Class]\n",
    "    ax1.plot(Xk, Rk, colour, alpha = 0.3)\n",
    "ax1.plot(space[labels == -1], reachability[labels == -1], 'k.', alpha = 0.3)\n",
    "ax1.plot(space, np.total_offenses(space, 2., dtype = float), 'k-', alpha = 0.5)\n",
    "ax1.plot(space, np.total_offenses(space, 0.5, dtype = float), 'k-.', alpha = 0.5)\n",
    "ax1.set_ylabel('Reachability Distance')\n",
    "ax1.set_title('Reachability Plot')\n",
    "  \n",
    "# Plotting the OPTICS Clustering\n",
    "colors = ['c.', 'b.', 'r.', 'y.', 'g.']\n",
    "for Class, colour in zip(range(0, 5), colors):\n",
    "    Xk = X_scaled[optics_model.labels_ == Class]\n",
    "    ax2.plot(Xk.iloc[:, 0], Xk.iloc[:, 1], colour, alpha = 0.3)\n",
    "      \n",
    "ax2.plot(X_scaled.iloc[optics_model.labels_ == -1, 0],\n",
    "        X_scaled.iloc[optics_model.labels_ == -1, 1],\n",
    "       'k+', alpha = 0.1)\n",
    "ax2.set_title('OPTICS Clustering')\n",
    "  \n",
    "# Plotting the DBSCAN Clustering with eps = 0.5\n",
    "colors = ['c', 'b', 'r', 'y', 'g', 'greenyellow']\n",
    "for Class, colour in zip(range(0, 6), colors):\n",
    "    Xk = X_scaled[labels1 == Class]\n",
    "    ax3.plot(Xk.iloc[:, 0], Xk.iloc[:, 1], colour, alpha = 0.3, marker ='.')\n",
    "        \n",
    "ax3.plot(X_scaled.iloc[labels1 == -1, 0],\n",
    "        X_scaled.iloc[labels1 == -1, 1],\n",
    "       'k+', alpha = 0.1)\n",
    "ax3.set_title('DBSCAN clustering with eps = 0.5')\n",
    "  \n",
    "# Plotting the DBSCAN Clustering with eps = 2.0\n",
    "colors = ['c.', 'y.', 'm.', 'g.']\n",
    "for Class, colour in zip(range(0, 4), colors):\n",
    "    Xk = X_scaled.iloc[labels2 == Class]\n",
    "    ax4.plot(Xk.iloc[:, 0], Xk.iloc[:, 1], colour, alpha = 0.3)\n",
    "          \n",
    "ax4.plot(X_scaled.iloc[labels2 == -1, 0],\n",
    "        X_scaled.iloc[labels2 == -1, 1],\n",
    "       'k+', alpha = 0.1)\n",
    "ax4.set_title('DBSCAN Clustering with eps = 2.0')\n",
    "  \n",
    "  \n",
    "plt.tight_layout()\n",
    "plt.show()"
   ]
  }
 ],
 "metadata": {
  "kernelspec": {
   "display_name": "mlenv",
   "language": "python",
   "name": "mlenv"
  },
  "language_info": {
   "codemirror_mode": {
    "name": "ipython",
    "version": 3
   },
   "file_extension": ".py",
   "mimetype": "text/x-python",
   "name": "python",
   "nbconvert_exporter": "python",
   "pygments_lexer": "ipython3",
   "version": "3.7.11"
  }
 },
 "nbformat": 4,
 "nbformat_minor": 5
}
